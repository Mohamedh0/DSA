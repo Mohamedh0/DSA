{
 "cells": [
  {
   "cell_type": "code",
   "execution_count": null,
   "id": "ded956e5",
   "metadata": {},
   "outputs": [
    {
     "data": {
      "text/plain": [
       "[2, 3, 4, 5, 6, 7, 9]"
      ]
     },
     "execution_count": 1,
     "metadata": {},
     "output_type": "execute_result"
    }
   ],
   "source": [
    "def bubble_sort(arr):\n",
    "    n = len(arr)\n",
    "    \n",
    "    for i in range(n):\n",
    "        swapped = False\n",
    "        for j in range(n - i - 1):  \n",
    "            if arr[j] > arr[j + 1]:        \n",
    "                arr[j], arr[j + 1] = arr[j + 1], arr[j]  \n",
    "                swapped = True\n",
    "    if not swapped:\n",
    "        return arr\n",
    "\n",
    "    return arr\n",
    "\n",
    "arr = [5, 6, 7, 9, 2, 3, 4]\n",
    "bubble_sort(arr)"
   ]
  },
  {
   "cell_type": "code",
   "execution_count": null,
   "id": "1e45cb0a",
   "metadata": {},
   "outputs": [
    {
     "data": {
      "text/plain": [
       "[2, 3, 4, 5, 6, 7, 9]"
      ]
     },
     "execution_count": 3,
     "metadata": {},
     "output_type": "execute_result"
    }
   ],
   "source": [
    "def selection_sort(arr):\n",
    "    n = len(arr)\n",
    "    \n",
    "    for i in range(n-1):\n",
    "        min_index = i\n",
    "        for j in range(i+1,n):\n",
    "            if arr[j] < arr[min_index]:\n",
    "                min_index = j\n",
    "        arr[i],arr[min_index] = arr[min_index],arr[i]\n",
    "        \n",
    "    return arr\n",
    "\n",
    "arr = [5, 6, 7, 9, 2, 23, 14]\n",
    "selection_sort(arr)"
   ]
  },
  {
   "cell_type": "code",
   "execution_count": 4,
   "id": "9fd53023",
   "metadata": {},
   "outputs": [
    {
     "data": {
      "text/plain": [
       "[2, 3, 4, 5, 6, 7, 9]"
      ]
     },
     "execution_count": 4,
     "metadata": {},
     "output_type": "execute_result"
    }
   ],
   "source": [
    "def insertion_sort(arr):\n",
    "    n = len(arr)\n",
    "    \n",
    "    for i in range(n):\n",
    "        key = arr[i]\n",
    "        j = i-1\n",
    "        \n",
    "        while j>=0 and arr[j] > key:\n",
    "            arr[j+1] = arr[j]\n",
    "            j-=1\n",
    "        \n",
    "        arr[j+1] = key\n",
    "    \n",
    "    return arr\n",
    "\n",
    "arr = [5, 6, 7, 9, 2, 3, 4]\n",
    "insertion_sort(arr)"
   ]
  },
  {
   "cell_type": "code",
   "execution_count": 1,
   "id": "70e839c5",
   "metadata": {},
   "outputs": [],
   "source": [
    "def merge(arr,p,q,r):\n",
    "    n1 = q-p+1\n",
    "    n2 = r-q\n",
    "    i,j,k = 0,0,p\n",
    "    \n",
    "    L = arr[p:q+1]\n",
    "    R = arr[q+1:r+1]\n",
    "    \n",
    "    while (i<n1 and j<n2):\n",
    "        if L[i] <= R[j]:\n",
    "            arr[k] = L[i]\n",
    "            i+=1\n",
    "        else:\n",
    "            arr[k] = R[j]\n",
    "            j+=1\n",
    "        k+=1\n",
    "    \n",
    "    while i<n1:\n",
    "        arr[k] = L[i]\n",
    "        i+=1\n",
    "        k+=1\n",
    "    \n",
    "    while j<n2:\n",
    "        arr[k] = R[j]\n",
    "        j+=1\n",
    "        k+=1"
   ]
  },
  {
   "cell_type": "code",
   "execution_count": 2,
   "id": "ffd9f7e0",
   "metadata": {},
   "outputs": [],
   "source": [
    "def merge_sort(arr,p,r):\n",
    "    if p<r:\n",
    "        q = (p+r)>>1\n",
    "        merge_sort(arr,p,q)\n",
    "        merge_sort(arr,q+1,r)\n",
    "        merge(arr,p,q,r)"
   ]
  },
  {
   "cell_type": "code",
   "execution_count": 4,
   "id": "3a14a98f",
   "metadata": {},
   "outputs": [
    {
     "data": {
      "text/plain": [
       "[1, 2, 4, 5, 6, 9, 17, 32]"
      ]
     },
     "execution_count": 4,
     "metadata": {},
     "output_type": "execute_result"
    }
   ],
   "source": [
    "arr = [5, 6, 17, 9, 2, 32, 4,1]\n",
    "merge_sort(arr,0,len(arr)-1)\n",
    "arr"
   ]
  },
  {
   "cell_type": "code",
   "execution_count": 1,
   "id": "3d7ca180",
   "metadata": {},
   "outputs": [],
   "source": [
    "def partition(arr,l,h):\n",
    "    # assume pivot at the end\n",
    "    pivot = arr[h]\n",
    "    i = l\n",
    "    for j in range(l,h):\n",
    "        if arr[j] < pivot:\n",
    "            arr[i],arr[j] = arr[j],arr[i]\n",
    "            i+=1\n",
    "    \n",
    "    arr[i],arr[h] = arr[h],arr[i]\n",
    "    return i"
   ]
  },
  {
   "cell_type": "code",
   "execution_count": 4,
   "id": "bb2bffc9",
   "metadata": {},
   "outputs": [],
   "source": [
    "def quick_sort(arr, l, h):\n",
    "    if l<h:\n",
    "        pivot = partition(arr,l,h)\n",
    "        quick_sort(arr, l, pivot-1)\n",
    "        quick_sort(arr, pivot+1, h)"
   ]
  },
  {
   "cell_type": "code",
   "execution_count": 5,
   "id": "069c6624",
   "metadata": {},
   "outputs": [
    {
     "data": {
      "text/plain": [
       "[1, 2, 4, 5, 6, 9, 17, 32]"
      ]
     },
     "execution_count": 5,
     "metadata": {},
     "output_type": "execute_result"
    }
   ],
   "source": [
    "arr = [5, 6, 17, 9, 2, 32, 4,1] \n",
    "quick_sort(arr, 0, len(arr)-1)\n",
    "arr"
   ]
  }
 ],
 "metadata": {
  "kernelspec": {
   "display_name": "base",
   "language": "python",
   "name": "python3"
  },
  "language_info": {
   "codemirror_mode": {
    "name": "ipython",
    "version": 3
   },
   "file_extension": ".py",
   "mimetype": "text/x-python",
   "name": "python",
   "nbconvert_exporter": "python",
   "pygments_lexer": "ipython3",
   "version": "3.12.7"
  }
 },
 "nbformat": 4,
 "nbformat_minor": 5
}
